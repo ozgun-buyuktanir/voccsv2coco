{
 "cells": [
  {
   "cell_type": "markdown",
   "metadata": {},
   "source": [
    "**This code will merge all of those CSV files into single json file**"
   ]
  },
  {
   "cell_type": "code",
   "execution_count": 1,
   "metadata": {},
   "outputs": [],
   "source": [
    "import csv\n",
    "import json\n",
    "import os\n",
    "from collections import defaultdict"
   ]
  },
  {
   "cell_type": "code",
   "execution_count": 1,
   "metadata": {},
   "outputs": [],
   "source": [
    "#Note:I'm using wsl so I have to use /mnt/c/... to access my files\n",
    "\n",
    "# Directory containing CSV files\n",
    "csv_dir = '/mnt/c/Users/querr/OneDrive/Desktop/dataset'\n",
    "\n",
    "# Output JSON file (change the name if you want)\n",
    "json_file = '/mnt/c/Users/querr/OneDrive/Desktop/dataset/combined.json'\n",
    "\n",
    "# COCO data dictionary\n",
    "data = {\n",
    "    \"images\": [],\n",
    "    \"annotations\": [],\n",
    "    \"categories\": []\n",
    "}\n",
    "\n",
    "# Initialize category dictionary\n",
    "categories = {}\n",
    "\n",
    "# Initialize image id and annotation id\n",
    "image_id = 1\n",
    "annotation_id = 1\n",
    "\n",
    "# Iterate over CSV files\n",
    "for filename in os.listdir(csv_dir):\n",
    "    if filename.endswith('.csv'):\n",
    "        with open(os.path.join(csv_dir, filename), 'r') as f:\n",
    "            reader = csv.reader(f)\n",
    "            next(reader)  # Skip header\n",
    "\n",
    "            # Iterate over rows in the CSV file\n",
    "            for row in reader:\n",
    "                # Parse row\n",
    "                filename, width, height, class_name, xmin, ymin, xmax, ymax = row\n",
    "\n",
    "                # Add image\n",
    "                data['images'].append({\n",
    "                    \"file_name\": filename + '.jpg',  # add .jpg here\n",
    "                    \"height\": int(height),\n",
    "                    \"width\": int(width),\n",
    "                    \"id\": image_id\n",
    "                })\n",
    "\n",
    "                # Add category\n",
    "                if class_name not in categories:\n",
    "                    categories[class_name] = len(categories) + 1\n",
    "                data['categories'].append({\n",
    "                    \"supercategory\": class_name,\n",
    "                    \"id\": categories[class_name],\n",
    "                    \"name\": class_name\n",
    "                })\n",
    "\n",
    "                # Add annotation\n",
    "                data['annotations'].append({\n",
    "                    \"segmentation\": [],\n",
    "                    \"area\": (int(xmax) - int(xmin)) * (int(ymax) - int(ymin)),\n",
    "                    \"iscrowd\": 0,\n",
    "                    \"image_id\": image_id,\n",
    "                    \"bbox\": [int(xmin), int(ymin), int(xmax) - int(xmin), int(ymax) - int(ymin)],\n",
    "                    \"category_id\": categories[class_name],\n",
    "                    \"id\": annotation_id\n",
    "                })\n",
    "\n",
    "                # Increment image id and annotation id\n",
    "                image_id += 1\n",
    "                annotation_id += 1\n",
    "\n",
    "# Write data to JSON file\n",
    "with open(json_file, 'w') as f:\n",
    "    json.dump(data, f)"
   ]
  }
 ],
 "metadata": {
  "kernelspec": {
   "display_name": "Python 3",
   "language": "python",
   "name": "python3"
  },
  "language_info": {
   "codemirror_mode": {
    "name": "ipython",
    "version": 3
   },
   "file_extension": ".py",
   "mimetype": "text/x-python",
   "name": "python",
   "nbconvert_exporter": "python",
   "pygments_lexer": "ipython3",
   "version": "3.10.12"
  }
 },
 "nbformat": 4,
 "nbformat_minor": 2
}
